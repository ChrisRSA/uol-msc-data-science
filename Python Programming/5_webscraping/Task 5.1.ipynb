{
 "metadata": {
  "language_info": {
   "codemirror_mode": {
    "name": "ipython",
    "version": 3
   },
   "file_extension": ".py",
   "mimetype": "text/x-python",
   "name": "python",
   "nbconvert_exporter": "python",
   "pygments_lexer": "ipython3",
   "version": "3.7.7-final"
  },
  "orig_nbformat": 2,
  "kernelspec": {
   "name": "python3",
   "display_name": "Python 3.7.7 64-bit ('base': conda)",
   "metadata": {
    "interpreter": {
     "hash": "62e1fbe0262d360f163b4c66005c4eeb258ebd04e8d9f11920b910f284c27f27"
    }
   }
  }
 },
 "nbformat": 4,
 "nbformat_minor": 2,
 "cells": [
  {
   "source": [
    "# Task 1\n",
    "\n",
    "We were tasked with finding some interesting websites with tables to scrape and produce a pandas dataframe from. For this I chose to scrpae the English Premier League table on the Skysports website."
   ],
   "cell_type": "markdown",
   "metadata": {}
  },
  {
   "cell_type": "code",
   "execution_count": 21,
   "metadata": {},
   "outputs": [],
   "source": [
    "import pandas as pd\n",
    "from bs4 import BeautifulSoup\n",
    "import requests\n",
    "\n",
    "url = 'https://www.skysports.com/premier-league-table'\n",
    "\n",
    "r = requests.get(url)\n",
    "\n",
    "data = r.text"
   ]
  },
  {
   "cell_type": "code",
   "execution_count": 24,
   "metadata": {},
   "outputs": [],
   "source": [
    "soup = BeautifulSoup(data, 'html.parser')"
   ]
  },
  {
   "cell_type": "code",
   "execution_count": 27,
   "metadata": {},
   "outputs": [],
   "source": [
    "table = soup.find('table', attrs={'class': 'standing-table__table'})\n",
    "results = table.find_all('tr')"
   ]
  },
  {
   "cell_type": "code",
   "execution_count": 46,
   "metadata": {},
   "outputs": [],
   "source": [
    "rows = []\n",
    "\n",
    "for result in results:\n",
    "    data = result.find_all('td')\n",
    "\n",
    "    if len(data) == 0:\n",
    "        continue\n",
    "\n",
    "    rank = data[0].getText()\n",
    "    team = data[1].getText()\n",
    "    pl = data[2].getText()\n",
    "    w = data[3].getText()\n",
    "    d = data[4].getText()\n",
    "    l = data[5].getText()\n",
    "    f = data[6].getText()\n",
    "    a = data[7].getText()\n",
    "    gd = data[8].getText()\n",
    "    pts = data[9].getText()\n",
    "    \n",
    "    team = team.strip('\\n')\n",
    "\n",
    "    rows.append([rank, team, pl, w, d, l, f, a, gd, pts])"
   ]
  },
  {
   "cell_type": "code",
   "execution_count": 47,
   "metadata": {},
   "outputs": [
    {
     "output_type": "stream",
     "name": "stdout",
     "text": [
      "[['1', 'Manchester City', '30', '22', '5', '3', '64', '21', '43', '71'], ['2', 'Manchester United', '29', '16', '9', '4', '56', '32', '24', '57'], ['3', 'Leicester City', '29', '17', '5', '7', '53', '32', '21', '56'], ['4', 'Chelsea', '29', '14', '9', '6', '44', '25', '19', '51'], ['5', 'West Ham United', '28', '14', '6', '8', '42', '32', '10', '48'], ['6', 'Liverpool', '29', '13', '7', '9', '48', '36', '12', '46'], ['7', 'Everton', '28', '14', '4', '10', '40', '37', '3', '46'], ['8', 'Tottenham Hotspur', '28', '13', '6', '9', '47', '30', '17', '45'], ['9', 'Aston Villa', '27', '12', '5', '10', '39', '28', '11', '41'], ['10', 'Arsenal', '28', '12', '5', '11', '37', '29', '8', '41'], ['11', 'Crystal Palace', '29', '10', '7', '12', '31', '47', '-16', '37'], ['12', 'Leeds United', '28', '11', '3', '14', '43', '46', '-3', '36'], ['13', 'Wolverhampton Wanderers', '29', '9', '8', '12', '28', '38', '-10', '35'], ['14', 'Southampton', '29', '9', '6', '14', '36', '51', '-15', '33'], ['15', 'Burnley', '29', '8', '9', '12', '22', '37', '-15', '33'], ['16', 'Brighton and Hove Albion', '28', '6', '11', '11', '29', '36', '-7', '29'], ['17', 'Newcastle United', '28', '7', '7', '14', '28', '45', '-17', '28'], ['18', 'Fulham', '29', '5', '11', '13', '22', '36', '-14', '26'], ['19', 'West Bromwich Albion', '29', '3', '9', '17', '20', '57', '-37', '18'], ['20', 'Sheffield United', '29', '4', '2', '23', '16', '50', '-34', '14']]\n"
     ]
    }
   ],
   "source": [
    "print(rows)"
   ]
  },
  {
   "cell_type": "code",
   "execution_count": 48,
   "metadata": {},
   "outputs": [
    {
     "output_type": "execute_result",
     "data": {
      "text/plain": [
       "   Rank                      Team  pl   w   d   l   f   a   gd pts\n",
       "0     1           Manchester City  30  22   5   3  64  21   43  71\n",
       "1     2         Manchester United  29  16   9   4  56  32   24  57\n",
       "2     3            Leicester City  29  17   5   7  53  32   21  56\n",
       "3     4                   Chelsea  29  14   9   6  44  25   19  51\n",
       "4     5           West Ham United  28  14   6   8  42  32   10  48\n",
       "5     6                 Liverpool  29  13   7   9  48  36   12  46\n",
       "6     7                   Everton  28  14   4  10  40  37    3  46\n",
       "7     8         Tottenham Hotspur  28  13   6   9  47  30   17  45\n",
       "8     9               Aston Villa  27  12   5  10  39  28   11  41\n",
       "9    10                   Arsenal  28  12   5  11  37  29    8  41\n",
       "10   11            Crystal Palace  29  10   7  12  31  47  -16  37\n",
       "11   12              Leeds United  28  11   3  14  43  46   -3  36\n",
       "12   13   Wolverhampton Wanderers  29   9   8  12  28  38  -10  35\n",
       "13   14               Southampton  29   9   6  14  36  51  -15  33\n",
       "14   15                   Burnley  29   8   9  12  22  37  -15  33\n",
       "15   16  Brighton and Hove Albion  28   6  11  11  29  36   -7  29\n",
       "16   17          Newcastle United  28   7   7  14  28  45  -17  28\n",
       "17   18                    Fulham  29   5  11  13  22  36  -14  26\n",
       "18   19      West Bromwich Albion  29   3   9  17  20  57  -37  18\n",
       "19   20          Sheffield United  29   4   2  23  16  50  -34  14"
      ],
      "text/html": "<div>\n<style scoped>\n    .dataframe tbody tr th:only-of-type {\n        vertical-align: middle;\n    }\n\n    .dataframe tbody tr th {\n        vertical-align: top;\n    }\n\n    .dataframe thead th {\n        text-align: right;\n    }\n</style>\n<table border=\"1\" class=\"dataframe\">\n  <thead>\n    <tr style=\"text-align: right;\">\n      <th></th>\n      <th>Rank</th>\n      <th>Team</th>\n      <th>pl</th>\n      <th>w</th>\n      <th>d</th>\n      <th>l</th>\n      <th>f</th>\n      <th>a</th>\n      <th>gd</th>\n      <th>pts</th>\n    </tr>\n  </thead>\n  <tbody>\n    <tr>\n      <th>0</th>\n      <td>1</td>\n      <td>Manchester City</td>\n      <td>30</td>\n      <td>22</td>\n      <td>5</td>\n      <td>3</td>\n      <td>64</td>\n      <td>21</td>\n      <td>43</td>\n      <td>71</td>\n    </tr>\n    <tr>\n      <th>1</th>\n      <td>2</td>\n      <td>Manchester United</td>\n      <td>29</td>\n      <td>16</td>\n      <td>9</td>\n      <td>4</td>\n      <td>56</td>\n      <td>32</td>\n      <td>24</td>\n      <td>57</td>\n    </tr>\n    <tr>\n      <th>2</th>\n      <td>3</td>\n      <td>Leicester City</td>\n      <td>29</td>\n      <td>17</td>\n      <td>5</td>\n      <td>7</td>\n      <td>53</td>\n      <td>32</td>\n      <td>21</td>\n      <td>56</td>\n    </tr>\n    <tr>\n      <th>3</th>\n      <td>4</td>\n      <td>Chelsea</td>\n      <td>29</td>\n      <td>14</td>\n      <td>9</td>\n      <td>6</td>\n      <td>44</td>\n      <td>25</td>\n      <td>19</td>\n      <td>51</td>\n    </tr>\n    <tr>\n      <th>4</th>\n      <td>5</td>\n      <td>West Ham United</td>\n      <td>28</td>\n      <td>14</td>\n      <td>6</td>\n      <td>8</td>\n      <td>42</td>\n      <td>32</td>\n      <td>10</td>\n      <td>48</td>\n    </tr>\n    <tr>\n      <th>5</th>\n      <td>6</td>\n      <td>Liverpool</td>\n      <td>29</td>\n      <td>13</td>\n      <td>7</td>\n      <td>9</td>\n      <td>48</td>\n      <td>36</td>\n      <td>12</td>\n      <td>46</td>\n    </tr>\n    <tr>\n      <th>6</th>\n      <td>7</td>\n      <td>Everton</td>\n      <td>28</td>\n      <td>14</td>\n      <td>4</td>\n      <td>10</td>\n      <td>40</td>\n      <td>37</td>\n      <td>3</td>\n      <td>46</td>\n    </tr>\n    <tr>\n      <th>7</th>\n      <td>8</td>\n      <td>Tottenham Hotspur</td>\n      <td>28</td>\n      <td>13</td>\n      <td>6</td>\n      <td>9</td>\n      <td>47</td>\n      <td>30</td>\n      <td>17</td>\n      <td>45</td>\n    </tr>\n    <tr>\n      <th>8</th>\n      <td>9</td>\n      <td>Aston Villa</td>\n      <td>27</td>\n      <td>12</td>\n      <td>5</td>\n      <td>10</td>\n      <td>39</td>\n      <td>28</td>\n      <td>11</td>\n      <td>41</td>\n    </tr>\n    <tr>\n      <th>9</th>\n      <td>10</td>\n      <td>Arsenal</td>\n      <td>28</td>\n      <td>12</td>\n      <td>5</td>\n      <td>11</td>\n      <td>37</td>\n      <td>29</td>\n      <td>8</td>\n      <td>41</td>\n    </tr>\n    <tr>\n      <th>10</th>\n      <td>11</td>\n      <td>Crystal Palace</td>\n      <td>29</td>\n      <td>10</td>\n      <td>7</td>\n      <td>12</td>\n      <td>31</td>\n      <td>47</td>\n      <td>-16</td>\n      <td>37</td>\n    </tr>\n    <tr>\n      <th>11</th>\n      <td>12</td>\n      <td>Leeds United</td>\n      <td>28</td>\n      <td>11</td>\n      <td>3</td>\n      <td>14</td>\n      <td>43</td>\n      <td>46</td>\n      <td>-3</td>\n      <td>36</td>\n    </tr>\n    <tr>\n      <th>12</th>\n      <td>13</td>\n      <td>Wolverhampton Wanderers</td>\n      <td>29</td>\n      <td>9</td>\n      <td>8</td>\n      <td>12</td>\n      <td>28</td>\n      <td>38</td>\n      <td>-10</td>\n      <td>35</td>\n    </tr>\n    <tr>\n      <th>13</th>\n      <td>14</td>\n      <td>Southampton</td>\n      <td>29</td>\n      <td>9</td>\n      <td>6</td>\n      <td>14</td>\n      <td>36</td>\n      <td>51</td>\n      <td>-15</td>\n      <td>33</td>\n    </tr>\n    <tr>\n      <th>14</th>\n      <td>15</td>\n      <td>Burnley</td>\n      <td>29</td>\n      <td>8</td>\n      <td>9</td>\n      <td>12</td>\n      <td>22</td>\n      <td>37</td>\n      <td>-15</td>\n      <td>33</td>\n    </tr>\n    <tr>\n      <th>15</th>\n      <td>16</td>\n      <td>Brighton and Hove Albion</td>\n      <td>28</td>\n      <td>6</td>\n      <td>11</td>\n      <td>11</td>\n      <td>29</td>\n      <td>36</td>\n      <td>-7</td>\n      <td>29</td>\n    </tr>\n    <tr>\n      <th>16</th>\n      <td>17</td>\n      <td>Newcastle United</td>\n      <td>28</td>\n      <td>7</td>\n      <td>7</td>\n      <td>14</td>\n      <td>28</td>\n      <td>45</td>\n      <td>-17</td>\n      <td>28</td>\n    </tr>\n    <tr>\n      <th>17</th>\n      <td>18</td>\n      <td>Fulham</td>\n      <td>29</td>\n      <td>5</td>\n      <td>11</td>\n      <td>13</td>\n      <td>22</td>\n      <td>36</td>\n      <td>-14</td>\n      <td>26</td>\n    </tr>\n    <tr>\n      <th>18</th>\n      <td>19</td>\n      <td>West Bromwich Albion</td>\n      <td>29</td>\n      <td>3</td>\n      <td>9</td>\n      <td>17</td>\n      <td>20</td>\n      <td>57</td>\n      <td>-37</td>\n      <td>18</td>\n    </tr>\n    <tr>\n      <th>19</th>\n      <td>20</td>\n      <td>Sheffield United</td>\n      <td>29</td>\n      <td>4</td>\n      <td>2</td>\n      <td>23</td>\n      <td>16</td>\n      <td>50</td>\n      <td>-34</td>\n      <td>14</td>\n    </tr>\n  </tbody>\n</table>\n</div>"
     },
     "metadata": {},
     "execution_count": 48
    }
   ],
   "source": [
    "cols = ['Rank', 'Team', 'pl', 'w', 'd', 'l', 'f', 'a', 'gd', 'pts']\n",
    "df = pd.DataFrame(rows, columns=cols)\n",
    "df"
   ]
  },
  {
   "cell_type": "code",
   "execution_count": null,
   "metadata": {},
   "outputs": [],
   "source": []
  }
 ]
}