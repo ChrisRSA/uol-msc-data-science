{
 "metadata": {
  "language_info": {
   "codemirror_mode": {
    "name": "ipython",
    "version": 3
   },
   "file_extension": ".py",
   "mimetype": "text/x-python",
   "name": "python",
   "nbconvert_exporter": "python",
   "pygments_lexer": "ipython3",
   "version": "3.7.7-final"
  },
  "orig_nbformat": 2,
  "kernelspec": {
   "name": "python3",
   "display_name": "Python 3.7.7 64-bit ('base': conda)",
   "metadata": {
    "interpreter": {
     "hash": "62e1fbe0262d360f163b4c66005c4eeb258ebd04e8d9f11920b910f284c27f27"
    }
   }
  }
 },
 "nbformat": 4,
 "nbformat_minor": 2,
 "cells": [
  {
   "cell_type": "code",
   "execution_count": 1,
   "metadata": {},
   "outputs": [],
   "source": [
    "import numpy as np\n",
    "import pandas as pd\n",
    "from bs4 import BeautifulSoup\n",
    "import requests"
   ]
  },
  {
   "cell_type": "code",
   "execution_count": 2,
   "metadata": {},
   "outputs": [],
   "source": [
    "# load html\n",
    "url = 'https://scholar.google.com/citations?user=ETIBghkAAAAJ&hl=en'\n",
    "html = requests.get(url).text\n",
    "soup = BeautifulSoup(html, features='lxml')"
   ]
  },
  {
   "cell_type": "code",
   "execution_count": 3,
   "metadata": {},
   "outputs": [],
   "source": [
    "# filter tr blocks with S McGrath\n",
    "trs = soup.find_all('tr', {'class': 'gsc_a_tr'})\n",
    "trs = [tr for tr in trs if 'S McGrath' in tr.td.div.text]"
   ]
  },
  {
   "cell_type": "code",
   "execution_count": 5,
   "metadata": {},
   "outputs": [],
   "source": [
    "# create empty lists\n",
    "titles = []\n",
    "years = []\n",
    "\n",
    "for tr in trs:\n",
    "    title = tr.td.find('a', {'class': 'gsc_a_at'}).text\n",
    "    titles.append(title)\n",
    "    year = tr.find('td', {'class': 'gsc_a_y'}).find('span', {'class': 'gsc_a_h gsc_a_hc gs_ibl'}).text\n",
    "    years.append(year)"
   ]
  },
  {
   "cell_type": "code",
   "execution_count": 6,
   "metadata": {},
   "outputs": [
    {
     "output_type": "stream",
     "name": "stdout",
     "text": [
      "Designing for exploratory play with a hackable digital musical instrument\nMaking music together: An exploration of amateur and pro-am grime music production\nGeoTracks: Adaptive music for everyday journeys\nThe Grime scene: social media, music, creation and consumption\nThe Rough Mile: Testing a framework of immersive practice\nUnderstanding social media and sound: music, meaning and membership, the case of SoundCloud\nThe user experience of mobile music making: An ethnographic exploration of music production and performance in practice\nThe Rough Mile: Reframing Location Through Locative Audio\nAn ethnographic exploration of studio production practice\nDESIGNING AND DEVELOPING USER-CENTRED SYSTEMS\nBreaking the workflow: Design heuristics to support the development of usable digital audio production tools: framing usability heuristics for contemporary purposes\nThe Rough Mile: a Design Template for Locative Audio Experiences\nThe UX of Music Making\nAn Analytical Comparison of Digital Audio Encoding Technologies\n"
     ]
    }
   ],
   "source": [
    "for title in titles:\n",
    "    print(title)"
   ]
  },
  {
   "cell_type": "code",
   "execution_count": 7,
   "metadata": {},
   "outputs": [
    {
     "output_type": "stream",
     "name": "stdout",
     "text": [
      "2016\n2016\n2016\n2016\n2017\n2015\n2017\n2017\n2016\n2018\n2020\n2018\n2017\n2005\n"
     ]
    }
   ],
   "source": [
    "for year in years:\n",
    "    print(year)"
   ]
  },
  {
   "cell_type": "code",
   "execution_count": 8,
   "metadata": {},
   "outputs": [
    {
     "output_type": "execute_result",
     "data": {
      "text/plain": [
       "array([['Designing for exploratory play with a hackable digital musical instrument',\n",
       "        '2016'],\n",
       "       ['Making music together: An exploration of amateur and pro-am grime music production',\n",
       "        '2016'],\n",
       "       ['GeoTracks: Adaptive music for everyday journeys', '2016'],\n",
       "       ['The Grime scene: social media, music, creation and consumption',\n",
       "        '2016'],\n",
       "       ['The Rough Mile: Testing a framework of immersive practice',\n",
       "        '2017'],\n",
       "       ['Understanding social media and sound: music, meaning and membership, the case of SoundCloud',\n",
       "        '2015'],\n",
       "       ['The user experience of mobile music making: An ethnographic exploration of music production and performance in practice',\n",
       "        '2017'],\n",
       "       ['The Rough Mile: Reframing Location Through Locative Audio',\n",
       "        '2017'],\n",
       "       ['An ethnographic exploration of studio production practice',\n",
       "        '2016'],\n",
       "       ['DESIGNING AND DEVELOPING USER-CENTRED SYSTEMS', '2018'],\n",
       "       ['Breaking the workflow: Design heuristics to support the development of usable digital audio production tools: framing usability heuristics for contemporary purposes',\n",
       "        '2020'],\n",
       "       ['The Rough Mile: a Design Template for Locative Audio Experiences',\n",
       "        '2018'],\n",
       "       ['The UX of Music Making', '2017'],\n",
       "       ['An Analytical Comparison of Digital Audio Encoding Technologies',\n",
       "        '2005']], dtype='<U164')"
      ]
     },
     "metadata": {},
     "execution_count": 8
    }
   ],
   "source": [
    "table = np.array([titles, years]).T\n",
    "table"
   ]
  },
  {
   "cell_type": "code",
   "execution_count": 9,
   "metadata": {},
   "outputs": [
    {
     "output_type": "execute_result",
     "data": {
      "text/plain": [
       "                                                Title  Year\n",
       "0   Designing for exploratory play with a hackable...  2016\n",
       "1   Making music together: An exploration of amate...  2016\n",
       "2     GeoTracks: Adaptive music for everyday journeys  2016\n",
       "3   The Grime scene: social media, music, creation...  2016\n",
       "4   The Rough Mile: Testing a framework of immersi...  2017\n",
       "5   Understanding social media and sound: music, m...  2015\n",
       "6   The user experience of mobile music making: An...  2017\n",
       "7   The Rough Mile: Reframing Location Through Loc...  2017\n",
       "8   An ethnographic exploration of studio producti...  2016\n",
       "9       DESIGNING AND DEVELOPING USER-CENTRED SYSTEMS  2018\n",
       "10  Breaking the workflow: Design heuristics to su...  2020\n",
       "11  The Rough Mile: a Design Template for Locative...  2018\n",
       "12                             The UX of Music Making  2017\n",
       "13  An Analytical Comparison of Digital Audio Enco...  2005"
      ],
      "text/html": "<div>\n<style scoped>\n    .dataframe tbody tr th:only-of-type {\n        vertical-align: middle;\n    }\n\n    .dataframe tbody tr th {\n        vertical-align: top;\n    }\n\n    .dataframe thead th {\n        text-align: right;\n    }\n</style>\n<table border=\"1\" class=\"dataframe\">\n  <thead>\n    <tr style=\"text-align: right;\">\n      <th></th>\n      <th>Title</th>\n      <th>Year</th>\n    </tr>\n  </thead>\n  <tbody>\n    <tr>\n      <th>0</th>\n      <td>Designing for exploratory play with a hackable...</td>\n      <td>2016</td>\n    </tr>\n    <tr>\n      <th>1</th>\n      <td>Making music together: An exploration of amate...</td>\n      <td>2016</td>\n    </tr>\n    <tr>\n      <th>2</th>\n      <td>GeoTracks: Adaptive music for everyday journeys</td>\n      <td>2016</td>\n    </tr>\n    <tr>\n      <th>3</th>\n      <td>The Grime scene: social media, music, creation...</td>\n      <td>2016</td>\n    </tr>\n    <tr>\n      <th>4</th>\n      <td>The Rough Mile: Testing a framework of immersi...</td>\n      <td>2017</td>\n    </tr>\n    <tr>\n      <th>5</th>\n      <td>Understanding social media and sound: music, m...</td>\n      <td>2015</td>\n    </tr>\n    <tr>\n      <th>6</th>\n      <td>The user experience of mobile music making: An...</td>\n      <td>2017</td>\n    </tr>\n    <tr>\n      <th>7</th>\n      <td>The Rough Mile: Reframing Location Through Loc...</td>\n      <td>2017</td>\n    </tr>\n    <tr>\n      <th>8</th>\n      <td>An ethnographic exploration of studio producti...</td>\n      <td>2016</td>\n    </tr>\n    <tr>\n      <th>9</th>\n      <td>DESIGNING AND DEVELOPING USER-CENTRED SYSTEMS</td>\n      <td>2018</td>\n    </tr>\n    <tr>\n      <th>10</th>\n      <td>Breaking the workflow: Design heuristics to su...</td>\n      <td>2020</td>\n    </tr>\n    <tr>\n      <th>11</th>\n      <td>The Rough Mile: a Design Template for Locative...</td>\n      <td>2018</td>\n    </tr>\n    <tr>\n      <th>12</th>\n      <td>The UX of Music Making</td>\n      <td>2017</td>\n    </tr>\n    <tr>\n      <th>13</th>\n      <td>An Analytical Comparison of Digital Audio Enco...</td>\n      <td>2005</td>\n    </tr>\n  </tbody>\n</table>\n</div>"
     },
     "metadata": {},
     "execution_count": 9
    }
   ],
   "source": [
    "df_final = pd.DataFrame(table, columns=['Title', 'Year'])\n",
    "df_final"
   ]
  },
  {
   "cell_type": "code",
   "execution_count": null,
   "metadata": {},
   "outputs": [],
   "source": []
  }
 ]
}