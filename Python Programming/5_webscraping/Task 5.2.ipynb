{
 "cells": [
  {
   "source": [
    "# Task 2\n",
    "## Instructions\n",
    "Create a new Jupyter Notebook on your system.\n",
    "Complete your own implementation of a web spider. \n",
    "Combine it with the linguistic analysis code we saw previously, and use it to generate summaries of the pages. You can do this in one of two ways, either:\n",
    "\n",
    "1. Scrape a single page and then run your code on this page.\n",
    "2. Scrape a series of interlinked pages (e.g. looking for the a href element) and summarise each individual page plus a broad summary of all pages."
   ],
   "cell_type": "markdown",
   "metadata": {}
  },
  {
   "cell_type": "code",
   "execution_count": 1,
   "metadata": {},
   "outputs": [],
   "source": [
    "import pandas as pd\n",
    "from bs4 import BeautifulSoup\n",
    "import requests\n",
    "import re\n",
    "\n",
    "r = requests.get('https://citizen.co.za/category/news-world')\n",
    "data = r.text\n",
    "soup = BeautifulSoup(data, 'html.parser')"
   ]
  },
  {
   "cell_type": "code",
   "execution_count": 3,
   "metadata": {},
   "outputs": [
    {
     "output_type": "stream",
     "name": "stdout",
     "text": [
      "[<a href=\"https://citizen.co.za/news/news-world/2456371/french-mps-back-setting-age-of-sexual-consent-at-15/\" title=\"Link to French MPs back setting age of sexual consent at 15\">\n<img alt=\"French MPs back setting age of sexual consent at 15\" class=\"img-responsive\" src=\"https://citizen.co.za/wp-content/uploads/2021/03/iStock-897099028-389x259.jpg\"/>\n</a>, <a href=\"https://citizen.co.za/news/news-world/2456371/french-mps-back-setting-age-of-sexual-consent-at-15/\" title=\"Link to French MPs back setting age of sexual consent at 15\">French MPs back setting age of sexual consent at 15</a>, <a href=\"https://citizen.co.za/news/news-world/2456350/watch-prince-philip-discharged-from-hospital/\" title=\"Link to WATCH: Prince Philip discharged from hospital\">\n<img alt=\"WATCH: Prince Philip discharged from hospital\" class=\"img-responsive\" src=\"https://citizen.co.za/wp-content/uploads/2021/03/000_9639CY-389x259.jpg\"/>\n</a>, <a href=\"https://citizen.co.za/news/news-world/2456350/watch-prince-philip-discharged-from-hospital/\">WATCH: Prince Philip discharged from hospital</a>, <a href=\"https://citizen.co.za/news/news-world/2456109/33-years-after-iraq-chemical-attack-survivors-still-seeking-justice/\" title=\"Link to 33 years after Iraq chemical attack, survivors still seeking justice\">\n<img alt=\"33 years after Iraq chemical attack, survivors still seeking justice\" class=\"img-responsive\" src=\"https://citizen.co.za/wp-content/uploads/2021/03/000_94Z7FU-389x259.jpg\"/>\n</a>, <a href=\"https://citizen.co.za/news/news-world/2456109/33-years-after-iraq-chemical-attack-survivors-still-seeking-justice/\">33 years after Iraq chemical attack, survivors still seeking justice</a>, <a href=\"https://citizen.co.za/news/news-world/2456098/jabs-in-isolation-how-a-remote-portuguese-island-dodged-covid/\" title=\"Link to Jabs in isolation: How a remote Portuguese island dodged Covid\">\n<img alt=\"Jabs in isolation: How a remote Portuguese island dodged Covid\" class=\"img-responsive\" src=\"https://citizen.co.za/wp-content/uploads/2021/03/000_94X8WT-389x259.jpg\"/>\n</a>, <a href=\"https://citizen.co.za/news/news-world/2456098/jabs-in-isolation-how-a-remote-portuguese-island-dodged-covid/\">Jabs in isolation: How a remote Portuguese island dodged Covid</a>, <a href=\"https://citizen.co.za/news/news-world/2456023/here-are-the-countries-that-have-halted-use-of-astrazeneca-jab/\" title=\"Link to Here are the countries that have halted use of AstraZeneca jab\">\n<img alt=\"Here are the countries that have halted use of AstraZeneca jab\" class=\"img-responsive\" src=\"https://citizen.co.za/wp-content/uploads/2021/03/000_94Y33B-389x259.jpg\"/>\n</a>, <a href=\"https://citizen.co.za/news/news-world/2456023/here-are-the-countries-that-have-halted-use-of-astrazeneca-jab/\">Here are the countries that have halted use of AstraZeneca jab</a>, <a href=\"https://citizen.co.za/news/news-world/2455858/catholic-church-cant-bless-sin-says-vatican-over-same-sex-unions/\" title=\"Link to Catholic Church can’t ‘bless sin’, says Vatican over same-sex unions\">\n<img alt=\"Catholic Church can’t ‘bless sin’, says Vatican over same-sex unions\" class=\"img-responsive\" src=\"https://citizen.co.za/wp-content/uploads/2021/03/iStock-498682833-389x259.jpg\"/>\n</a>, <a href=\"https://citizen.co.za/news/news-world/2455858/catholic-church-cant-bless-sin-says-vatican-over-same-sex-unions/\">Catholic Church can’t ‘bless sin’, says Vatican over same-sex unions</a>, <a href=\"https://citizen.co.za/news/news-world/2455526/merkel-party-in-crisis-after-defeat-in-regional-polls/\" title=\"Link to Merkel party in crisis after defeat in regional polls\">\n<img alt=\"Merkel party in crisis after defeat in regional polls\" class=\"img-responsive\" src=\"https://citizen.co.za/wp-content/uploads/2021/03/000_94N8HB-389x259.jpg\"/>\n</a>, <a href=\"https://citizen.co.za/news/news-world/2455526/merkel-party-in-crisis-after-defeat-in-regional-polls/\">Merkel party in crisis after defeat in regional polls</a>, <a href=\"https://citizen.co.za/news/news-world/2455520/weeks-of-angry-demos-hound-israels-netanyahu-to-the-polls/\" title=\"Link to Weeks of angry demos hound Israel’s Netanyahu to the polls\">\n<img alt=\"Weeks of angry demos hound Israel’s Netanyahu to the polls\" class=\"img-responsive\" src=\"https://citizen.co.za/wp-content/uploads/2021/03/000_94Y7N6-389x259.jpg\"/>\n</a>, <a class=\"homelead2-headline-more-stories\" href=\"https://citizen.co.za/news/news-world/2455520/weeks-of-angry-demos-hound-israels-netanyahu-to-the-polls/\">Weeks of angry demos hound Israel’s Netanyahu to the polls</a>, <a href=\"https://citizen.co.za/news/news-world/2455512/women-across-australia-march-against-sexual-violence-and-inequality/\" title=\"Link to Women across Australia march against sexual violence and inequality\">\n<img alt=\"Women across Australia march against sexual violence and inequality\" class=\"img-responsive\" src=\"https://citizen.co.za/wp-content/uploads/2021/03/000_94Z6Y9-389x259.jpg\"/>\n</a>, <a class=\"homelead2-headline-more-stories\" href=\"https://citizen.co.za/news/news-world/2455512/women-across-australia-march-against-sexual-violence-and-inequality/\">Women across Australia march against sexual violence and inequality</a>, <a href=\"https://citizen.co.za/news/news-world/2455411/death-toll-in-myanmar-anti-coup-protests-climbs-to-18/\" title=\"Link to Death toll in Myanmar anti-coup protests climbs to 18\">\n<img alt=\"Death toll in Myanmar anti-coup protests climbs to 18\" class=\"img-responsive\" src=\"https://citizen.co.za/wp-content/uploads/2021/03/000_94X8B2-389x259.jpg\"/>\n</a>, <a class=\"homelead2-headline-more-stories\" href=\"https://citizen.co.za/news/news-world/2455411/death-toll-in-myanmar-anti-coup-protests-climbs-to-18/\">Death toll in Myanmar anti-coup protests climbs to 18</a>, <a href=\"https://citizen.co.za/news/news-world/2455351/uk-police-defend-manhandling-of-women-at-safety-protest/\" title=\"Link to UK police defend ‘manhandling’ of women at safety protest\">\n<img alt=\"UK police defend ‘manhandling’ of women at safety protest\" class=\"img-responsive\" src=\"https://citizen.co.za/wp-content/uploads/2021/03/000_94X4YH-389x259.jpg\"/>\n</a>, <a class=\"homelead2-headline-more-stories\" href=\"https://citizen.co.za/news/news-world/2455351/uk-police-defend-manhandling-of-women-at-safety-protest/\">UK police defend ‘manhandling’ of women at safety protest</a>, <a href=\"https://citizen.co.za/news/news-world/2455263/timeline-ten-years-of-war-in-syria-that-has-left-over-380000-dead/\" title=\"Link to Timeline: Ten years of war in Syria that has left over 380,000 dead\">\n<img alt=\"Timeline: Ten years of war in Syria that has left over 380,000 dead\" class=\"img-responsive\" src=\"https://citizen.co.za/wp-content/uploads/2021/03/000_94T7LQ-min-389x259.jpg\"/>\n</a>, <a class=\"homelead2-headline-more-stories\" href=\"https://citizen.co.za/news/news-world/2455263/timeline-ten-years-of-war-in-syria-that-has-left-over-380000-dead/\">Timeline: Ten years of war in Syria that has left over 380,000 dead</a>, <a href=\"https://citizen.co.za/news/news-world/2455254/us-protesters-demand-justice-one-year-after-breonna-taylors-killing/\" title=\"Link to US protesters demand justice one year after Breonna Taylor’s killing\">\n<img alt=\"US protesters demand justice one year after Breonna Taylor’s killing\" class=\"img-responsive\" src=\"https://citizen.co.za/wp-content/uploads/2021/03/063_1231698392-min-389x259.jpg\"/>\n</a>, <a class=\"homelead2-headline-more-stories\" href=\"https://citizen.co.za/news/news-world/2455254/us-protesters-demand-justice-one-year-after-breonna-taylors-killing/\">US protesters demand justice one year after Breonna Taylor’s killing</a>, <a href=\"https://citizen.co.za/news/news-world/2455103/minneapolis-reaches-27m-settlement-with-george-floyds-family/\" title=\"Link to Minneapolis reaches $27m settlement with George Floyd’s family\">\n<img alt=\"Minneapolis reaches $27m settlement with George Floyd’s family\" class=\"img-responsive\" src=\"https://citizen.co.za/wp-content/uploads/2021/03/iStock-1249328608-389x259.jpg\"/>\n</a>, <a class=\"homelead2-headline-more-stories\" href=\"https://citizen.co.za/news/news-world/2455103/minneapolis-reaches-27m-settlement-with-george-floyds-family/\">Minneapolis reaches $27m settlement with George Floyd’s family</a>, <a href=\"https://citizen.co.za/news/news-world/2455054/daughter-of-mexican-drug-kingpin-pleads-guilty-in-us-court/\" title=\"Link to Daughter of Mexican drug kingpin pleads guilty in US court\">\n<img alt=\"Daughter of Mexican drug kingpin pleads guilty in US court\" class=\"img-responsive\" src=\"https://citizen.co.za/wp-content/uploads/2021/03/iStock-537971779-389x259.jpg\"/>\n</a>, <a class=\"homelead2-headline-more-stories\" href=\"https://citizen.co.za/news/news-world/2455054/daughter-of-mexican-drug-kingpin-pleads-guilty-in-us-court/\">Daughter of Mexican drug kingpin pleads guilty in US court</a>, <a href=\"https://citizen.co.za/news/news-world/2454923/russia-to-send-prisoners-for-arctic-cleanup/\" title=\"Link to Russia to send prisoners for Arctic cleanup\">\n<img alt=\"Russia to send prisoners for Arctic cleanup\" class=\"img-responsive\" src=\"https://citizen.co.za/wp-content/uploads/2021/03/000_94N64K-389x259.jpg\"/>\n</a>, <a class=\"homelead2-headline-more-stories\" href=\"https://citizen.co.za/news/news-world/2454923/russia-to-send-prisoners-for-arctic-cleanup/\">Russia to send prisoners for Arctic cleanup</a>, <a href=\"https://citizen.co.za/news/news-world/2454450/can-italys-dante-have-justice-700-years-after-his-death/\" title=\"Link to Can Italy’s Dante have justice, 700 years after his death?\">\n<img alt=\"Can Italy’s Dante have justice, 700 years after his death?\" class=\"img-responsive\" src=\"https://citizen.co.za/wp-content/uploads/2021/03/000_94R7TM-389x259.jpg\"/>\n</a>, <a class=\"homelead2-headline-more-stories\" href=\"https://citizen.co.za/news/news-world/2454450/can-italys-dante-have-justice-700-years-after-his-death/\">Can Italy’s Dante have justice, 700 years after his death?</a>, <a href=\"https://citizen.co.za/news/news-world/2454435/raccoons-to-snakes-shanghai-animal-cafes-expand-to-exotics/\" title=\"Link to Raccoons to snakes: Shanghai animal cafes expand to exotics\">\n<img alt=\"Raccoons to snakes: Shanghai animal cafes expand to exotics\" class=\"img-responsive\" src=\"https://citizen.co.za/wp-content/uploads/2021/03/000_94L8KH-389x259.jpg\"/>\n</a>, <a class=\"homelead2-headline-more-stories\" href=\"https://citizen.co.za/news/news-world/2454435/raccoons-to-snakes-shanghai-animal-cafes-expand-to-exotics/\">Raccoons to snakes: Shanghai animal cafes expand to exotics</a>]\n"
     ]
    }
   ],
   "source": [
    "articles = soup.find('div', {'class':'article-leads'}).find_all('a', \n",
    "                        href=re.compile('https://citizen.co.za/news/news-world/*'))\n",
    "print(articles)"
   ]
  },
  {
   "cell_type": "code",
   "execution_count": 4,
   "metadata": {},
   "outputs": [],
   "source": [
    "links = []\n",
    "for i in range(8):\n",
    "    links.append(articles[i].get('href'))"
   ]
  },
  {
   "cell_type": "code",
   "execution_count": 5,
   "metadata": {},
   "outputs": [
    {
     "output_type": "stream",
     "name": "stdout",
     "text": [
      "['https://citizen.co.za/news/news-world/2456371/french-mps-back-setting-age-of-sexual-consent-at-15/', 'https://citizen.co.za/news/news-world/2456350/watch-prince-philip-discharged-from-hospital/', 'https://citizen.co.za/news/news-world/2456109/33-years-after-iraq-chemical-attack-survivors-still-seeking-justice/', 'https://citizen.co.za/news/news-world/2456098/jabs-in-isolation-how-a-remote-portuguese-island-dodged-covid/']\n"
     ]
    }
   ],
   "source": [
    "links_select = links[::2]\n",
    "print(links_select)"
   ]
  },
  {
   "cell_type": "code",
   "execution_count": 12,
   "metadata": {},
   "outputs": [],
   "source": [
    "article_dict = {}\n",
    "docs = []\n",
    "\n",
    "for link in links_select:\n",
    "    r = requests.get(link)\n",
    "    data = r.text\n",
    "    soup = BeautifulSoup(data, 'html.parser')\n",
    "    article_title = soup.find('h1', {'class':'single-headline'}).text\n",
    "    article_headline = soup.find('h2', {'class':'single-excerpt'}).text\n",
    "    article_dict[article_title] = article_headline\n",
    "    \n",
    "    p_tags = soup.find('div', {'class':'single-content'}).find_all('p')\n",
    "    p_tags_text = [tag.get_text().strip() for tag in p_tags]\n",
    "    \n",
    "    sentence_list = [sentence for sentence in p_tags_text if not '\\n' in sentence]\n",
    "    sentence_list = [sentence for sentence in p_tags_text if '.' in sentence]\n",
    "    \n",
    "    article = ' '.join(sentence_list)\n",
    "    docs.append(article)"
   ]
  },
  {
   "cell_type": "code",
   "execution_count": 13,
   "metadata": {},
   "outputs": [
    {
     "output_type": "stream",
     "name": "stderr",
     "text": [
      "[nltk_data] Downloading package punkt to\n[nltk_data]     /Users/ChrisGough/nltk_data...\n[nltk_data]   Package punkt is already up-to-date!\n[nltk_data] Downloading package stopwords to\n[nltk_data]     /Users/ChrisGough/nltk_data...\n[nltk_data]   Package stopwords is already up-to-date!\n[nltk_data] Downloading package wordnet to\n[nltk_data]     /Users/ChrisGough/nltk_data...\n[nltk_data]   Package wordnet is already up-to-date!\n"
     ]
    }
   ],
   "source": [
    "#from another student\n",
    "import numpy as np \n",
    "import nltk\n",
    "nltk.download('punkt')\n",
    "nltk.download('stopwords')\n",
    "nltk.download('wordnet')\n",
    "from nltk.corpus import stopwords\n",
    "from nltk.tokenize import word_tokenize\n",
    "from nltk.stem import WordNetLemmatizer"
   ]
  },
  {
   "cell_type": "code",
   "execution_count": 14,
   "metadata": {},
   "outputs": [
    {
     "output_type": "stream",
     "name": "stdout",
     "text": [
      "['french', 'lawmaker', 'backed', 'bill', 'late', 'monday', 'setting', 'minimum', 'age', 'sexual', 'consent', 'marking', 'major', 'step', 'country', 'traditionally', 'permissive', 'attitude', 'sex', 'member', 'lower', 'house', 'parliament', 'voted', 'unanimously', 'bring', 'france', 'consent', 'law', 'line', 'western', 'country', 'following', 'wave', 'allegation', 'sexual', 'abuse', 'incest', 'described', 'france', 'second', 'metoo', 'movement', 'bill', 'sex', 'child', 'would', 'considered', 'rape', 'punishable', 'year', 'prison', 'unless', 'small', 'age', 'gap', 'two', 'partner', 'justice', 'minister', 'eric', 'said', 'vote', 'sent', 'clear', 'message', 'child', 'current', 'french', 'law', 'prosecutor', 'prove', 'minor', 'forced', 'threatened', 'tricked', 'sex', 'adult', 'order', 'bring', 'charge', 'rape', 'sexual', 'assault', 'draft', 'law', 'initiated', 'member', 'senate', 'suggested', 'age', 'consent', 'set', 'would', 'one', 'lowest', 'europe', 'president', 'emmanuel', 'macron', 'government', 'pushed', 'set', 'higher', 'bill', 'allow', 'sex', 'teen', 'young', 'adult', 'five', 'year', 'older', 'gap', 'criticised', 'mp', 'large', 'defended', 'saying', 'want', 'put', 'youngster', 'aged', 'trial', 'consensual', 'sex', 'girl', 'aged', 'fourteen', 'bill', 'subject', 'amendment', 'lower', 'house', 'national', 'assembly', 'return', 'senate', 'final', 'vote', 'legislation', 'also', 'crack', 'online', 'paedophilia', 'person', 'caught', 'trying', 'groom', 'child', 'aged', 'sexual', 'act', 'internet', 'facing', 'year', 'prison', 'fine', 'euro', 'issue', 'consent', 'repeatedly', 'come', 'debate', 'since', 'emerged', 'man', 'sex', 'girl', 'met', 'park', 'initially', 'charged', 'lesser', 'sexual', 'offence', 'rape', 'case', 'caused', 'public', 'outcry', 'france', 'sex', 'adult', 'minor', 'previously', 'often', 'shrugged', 'harmless', 'case', 'encounter', 'presented', 'consensual', 'usually', 'adult', 'country', 'top', 'appeal', 'court', 'week', 'set', 'rule', 'another', 'case', 'involving', 'allegation', 'child', 'abuse', 'case', 'brought', 'woman', 'named', 'julie', 'press', 'report', 'claim', 'raped', 'firefighter', 'aged', 'repeatedly', 'hospitalised', 'severe', 'anxiety', 'attack', 'france', 'ambulance', 'service', 'staffed', 'firefighter', 'accused', 'claimed', 'consented', 'sex', 'denies', 'news', 'way', 'download', 'citizen', 'app', 'io', 'android', 'queen', 'elizabeth', 'ii', 'husband', 'prince', 'philip', 'left', 'central', 'london', 'hospital', 'tuesday', 'four', 'week', 'treatment', 'sparked', 'fear', 'health', 'buckingham', 'palace', 'yet', 'confirm', 'discharge', 'private', 'king', 'edward', 'vii', 'hospital', 'recovering', 'royal', 'aide', 'said', 'successful', 'procedure', 'heart', 'condition', 'duke', 'edinburgh', 'formally', 'known', 'seen', 'sitting', 'upright', 'back', 'black', 'bmw', 'wearing', 'white', 'shirt', 'left', 'hospital', 'stay', 'king', 'edward', 'vii', 'hospital', 'st', 'bartholomew', 'also', 'london', 'longest', 'stint', 'hospital', 'duke', 'transferred', 'specialist', 'cardiac', 'unit', 'st', 'bartholomew', 'hospital', 'heart', 'procedure', 'returning', 'private', 'hospital', 'march', 'first', 'admitted', 'february', 'advice', 'doctor', 'complained', 'feeling', 'unwell', 'buckingham', 'palace', 'said', 'initially', 'expected', 'stay', 'day', 'stressed', 'illness', 'related', 'later', 'palace', 'said', 'treated', 'infection', 'without', 'specifying', 'philip', 'taken', 'hospital', 'helicopter', 'suffering', 'chest', 'pain', 'christmas', 'treated', 'blocked', 'coronary', 'artery', 'stent', 'fitted', 'concern', 'philip', 'health', 'high', 'age', 'turn', 'june', 'came', 'amid', 'landmark', 'interview', 'given', 'prince', 'harry', 'wife', 'meghan', 'markle', 'accusing', 'royal', 'family', 'racism', 'couple', 'sat', 'u', 'television', 'host', 'oprah', 'winfrey', 'month', 'bombshell', 'interview', 'couple', 'said', 'asked', 'member', 'royal', 'family', 'colour', 'son', 'skin', 'would', 'buckingham', 'palace', 'pushed', 'back', 'claim', 'racism', 'statement', 'queen', 'elizabeth', 'saying', 'recollection', 'may', 'vary', 'grandson', 'spouse', 'treated', 'stepped', 'back', 'royal', 'duty', 'responding', 'question', 'reporter', 'interview', 'harry', 'brother', 'prince', 'william', 'told', 'reporter', 'much', 'racist', 'family', 'ahead', 'interview', 'royal', 'commentator', 'said', 'timing', 'philip', 'hospital', 'poor', 'itv', 'aired', 'interview', 'britain', 'said', 'would', 'pull', 'interview', 'philip', 'health', 'worsened', 'hospital', 'ultimately', 'broadcast', 'segment', 'news', 'way', 'download', 'citizen', 'app', 'io', 'android', 'hawker', 'saber', 'one', 'survivor', 'chemical', 'attack', 'saddam', 'hussein', 'ordered', 'kurdish', 'town', 'halabja', 'year', 'ago', 'need', 'respirator', 'stay', 'alive', 'saber', 'hooked', 'machine', 'hour', 'day', 'three', 'time', 'still', 'terrible', 'memory', 'march', 'day', 'five', 'hour', 'iraq', 'air', 'force', 'rained', 'deadly', 'cocktail', 'chemical', 'weapon', 'including', 'mustard', 'gas', 'halabja', 'mountain', 'northeastern', 'iraq', 'according', 'expert', 'retribution', 'kurdish', 'peshmerga', 'fighter', 'backing', 'iran', 'war', 'iraq', 'around', 'iraqi', 'kurd', 'majority', 'woman', 'child', 'killed', 'largest', 'ever', 'chemical', 'weapon', 'attack', 'civilian', 'attack', 'still', 'haunt', 'halabja', 'resident', 'estimated', 'around', 'still', 'fight', 'justice', 'care', 'ill', 'hunt', 'missing', 'relative', 'still', 'people', 'seriously', 'ill', 'chemical', 'attack', 'halabja', 'loqman', 'abdelqader', 'president', 'association', 'victim', 'attack', 'told', 'afp', 'respiratory', 'difficulty', 'eyesight', 'problem', 'said', 'abdelqader', 'lost', 'six', 'family', 'member', 'massacre', 'neither', 'federal', 'authority', 'iraqi', 'kurdish', 'authority', 'set', 'care', 'programme', 'help', 'added', 'start', 'coronavirus', 'pandemic', 'iran', 'year', 'took', 'care', 'several', 'patient', 'always', 'piecemeal', 'basis', 'halabja', 'family', 'also', 'still', 'trying', 'find', 'child', 'went', 'missing', 'amid', 'chaos', 'attack', 'many', 'sheltered', 'treated', 'iran', 'kilometre', 'mile', 'away', 'child', 'still', 'missing', 'said', 'ayad', 'aras', 'head', 'local', 'child', 'protection', 'commission', 'halabja', 'resident', 'swiba', 'mohammed', 'believed', 'time', 'justice', 'would', 'served', 'even', 'went', 'baghdad', 'testify', 'saddam', 'cousin', 'henchman', 'ali', 'hassan', 'infamous', 'general', 'better', 'known', 'chemical', 'ali', 'majid', 'hanged', 'four', 'year', 'later', 'ordering', 'attack', 'said', 'carried', 'protect', 'iraq', 'powerful', 'neighbour', 'iran', 'death', 'brought', 'little', 'respite', 'mohammed', 'lost', 'five', 'child', 'massacre', 'well', 'sight', 'year', 'official', 'promising', 'send', 'abroad', 'surgery', 'finally', 'see', 'face', 'surviving', 'child', 'told', 'afp', 'one', 'kept', 'word', 'said', 'sob', 'saddam', 'overthrown', 'invasion', 'hanged', 'sentenced', 'death', 'massacre', 'shiite', 'muslim', 'make', 'majority', 'iraq', 'faced', 'repression', 'sunni', 'dictator', 'regime', 'death', 'put', 'end', 'proceeding', 'genocide', 'death', 'kurd', 'including', 'killed', 'halabja', 'ruthless', 'anfal', 'campaign', 'unable', 'convict', 'saddam', 'resident', 'halabja', 'trying', 'force', 'accomplice', 'woodwork', 'march', 'total', 'relative', 'victim', 'sued', 'european', 'company', 'individual', 'including', 'iraqi', 'say', 'aided', 'saddam', 'regime', 'developing', 'chemical', 'weapon', 'stockpile', 'one', 'lawyer', 'ayad', 'ismail', 'said', 'already', 'eight', 'hearing', 'next', 'one', 'set', 'june', 'ismail', 'told', 'afp', 'adding', 'summons', 'sent', 'company', 'cited', 'asked', 'see', 'evidence', 'abdelqader', 'time', 'running', 'since', 'fall', 'saddam', 'said', 'survivor', 'attack', 'died', 'living', 'testimony', 'massacre', 'news', 'way', 'download', 'citizen', 'app', 'io', 'android', 'battered', 'north', 'atlantic', 'weather', 'sometimes', 'starved', 'vital', 'supply', 'tiny', 'portuguese', 'island', 'corvo', 'crucial', 'advantage', 'fight', 'pandemic', 'remoteness', 'lying', 'hundred', 'kilometre', 'continental', 'europe', 'smallest', 'island', 'azores', 'dominated', 'volcanic', 'crater', 'dotted', 'lake', 'appears', 'escaped', 'unscathed', 'saturday', 'almost', 'entire', 'population', 'vaccinated', 'doctor', 'rejoicing', 'people', 'lined', 'sport', 'complex', 'second', 'pfizer', 'dose', 'already', 'living', 'life', 'close', 'normal', 'beamed', 'antonio', 'salgado', 'checking', 'name', 'list', 'even', 'physician', 'arrived', 'corvo', 'le', 'year', 'ago', 'already', 'accustomed', 'occasional', 'shortage', 'fruit', 'fuel', 'learnt', 'make', 'homemade', 'yoghurt', 'make', 'difficulty', 'experience', 'daily', 'said', 'portugal', 'decided', 'fully', 'vaccinate', 'island', 'without', 'moving', 'priority', 'group', 'local', 'health', 'official', 'clelio', 'meneses', 'explained', 'number', 'jab', 'needed', 'immunise', 'corvo', 'would', 'affect', 'rollouts', 'elsewhere', 'azores', 'responsible', 'thing', 'vaccinate', 'whole', 'population', 'one', 'go', 'create', 'immunised', 'territory', 'said', 'one', 'ventilator', 'island', 'hospital', 'bed', 'outbreak', 'corvo', 'could', 'devastating', 'afraid', 'someone', 'would', 'come', 'contaminate', 'u', 'like', 'boat', 'said', 'goreti', 'melo', 'one', 'island', 'two', 'nurse', 'spread', 'would', 'disastrous', 'rapid', 'said', 'mayor', 'jose', 'manuel', 'silva', 'recalled', 'constituent', 'wanted', 'island', 'closed', 'one', 'bakery', 'inevitably', 'go', 'mainland', 'portugal', 'battled', 'one', 'world', 'persistent', 'outbreak', 'imposing', 'strict', 'confinement', 'measure', 'people', 'died', 'infection', 'corvo', 'single', 'covid', 'case', 'local', 'ventured', 'continent', 'christmas', 'holiday', 'people', 'island', 'meet', 'cafe', 'restaurant', 'compare', 'vaccine', 'side', 'effect', 'person', 'however', 'island', 'source', 'income', 'small', 'fleet', 'fishing', 'boat', 'herd', 'cattle', 'account', 'farming', 'economy', 'tourism', 'provides', 'livelihood', 'pandemic', 'killed', 'revenue', 'stream', 'left', 'island', 'especially', 'dependent', 'outside', 'help', 'local', 'teacher', 'elisabete', 'barradas', 'say', 'feel', 'privileged', 'receiving', 'second', 'vaccine', 'dose', 'explained', 'island', 'felt', 'like', 'capsule', 'much', 'pandemic', 'said', 'resident', 'watching', 'played', 'rest', 'world', 'lot', 'concern', 'news', 'way', 'download', 'citizen', 'app', 'io', 'android']\n"
     ]
    }
   ],
   "source": [
    "tokens = []\n",
    "texts = []\n",
    "all_texts = []\n",
    "\n",
    "for d in docs:\n",
    "    data = d\n",
    "    \n",
    "    #tokenize each doc into words\n",
    "    word_token = word_tokenize(data)\n",
    "    \n",
    "    #change tokens into lower case and remove non alphanumeric characters\n",
    "    word_token = [t.lower().strip() for t in word_token if t.isalpha()]\n",
    "    \n",
    "    #remove stopwords\n",
    "    word_token = [t for t in word_token if t not in stopwords.words('english')]\n",
    "    \n",
    "    #lemmatize the tokens\n",
    "    wordnet_lemmatizer = WordNetLemmatizer()\n",
    "    word_token = [wordnet_lemmatizer.lemmatize(t) for t in word_token]\n",
    "    \n",
    "    texts.append(word_token)\n",
    "    \n",
    "    #append unique tokens in token\n",
    "    for t in word_token:\n",
    "        if t not in tokens:\n",
    "            tokens.append(t)\n",
    "            \n",
    "#combine each list in texts into all_texts\n",
    "for i in texts:\n",
    "    all_texts += i\n",
    "    \n",
    "print(all_texts)"
   ]
  },
  {
   "cell_type": "code",
   "execution_count": 15,
   "metadata": {},
   "outputs": [],
   "source": [
    "def idf(texts, tokens):\n",
    "    \n",
    "    idf_values = {}\n",
    "    \n",
    "    for t in tokens:\n",
    "        doc_freq = 0\n",
    "        \n",
    "        for text in texts:\n",
    "            if t in text:\n",
    "                doc_freq += 1\n",
    "        idf_values[t] = np.log10(len(texts)/(doc_freq+1))\n",
    "    return idf_values"
   ]
  },
  {
   "cell_type": "code",
   "execution_count": 16,
   "metadata": {},
   "outputs": [],
   "source": [
    "idf = idf(all_texts, tokens)\n",
    "sort_orders = sorted(idf.items(), key=lambda x: x[1], reverse=True)"
   ]
  },
  {
   "cell_type": "code",
   "execution_count": 17,
   "metadata": {},
   "outputs": [
    {
     "output_type": "execute_result",
     "data": {
      "text/plain": [
       "[('lawmaker', 2.7168377232995247),\n",
       " ('backed', 2.7168377232995247),\n",
       " ('monday', 2.7168377232995247),\n",
       " ('setting', 2.7168377232995247),\n",
       " ('minimum', 2.7168377232995247),\n",
       " ('marking', 2.7168377232995247),\n",
       " ('traditionally', 2.7168377232995247),\n",
       " ('permissive', 2.7168377232995247),\n",
       " ('attitude', 2.7168377232995247),\n",
       " ('parliament', 2.7168377232995247)]"
      ]
     },
     "metadata": {},
     "execution_count": 17
    }
   ],
   "source": [
    "sort_orders[0:10]"
   ]
  },
  {
   "cell_type": "code",
   "execution_count": null,
   "metadata": {},
   "outputs": [],
   "source": []
  }
 ],
 "metadata": {
  "kernelspec": {
   "display_name": "Python 3",
   "language": "python",
   "name": "python3"
  },
  "language_info": {
   "codemirror_mode": {
    "name": "ipython",
    "version": 3
   },
   "file_extension": ".py",
   "mimetype": "text/x-python",
   "name": "python",
   "nbconvert_exporter": "python",
   "pygments_lexer": "ipython3",
   "version": "3.7.7-final"
  }
 },
 "nbformat": 4,
 "nbformat_minor": 4
}