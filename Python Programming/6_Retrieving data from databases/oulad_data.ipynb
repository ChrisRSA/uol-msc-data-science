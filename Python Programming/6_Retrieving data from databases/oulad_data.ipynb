{
 "cells": [
  {
   "cell_type": "code",
   "execution_count": 1,
   "metadata": {},
   "outputs": [],
   "source": [
    "import getpass"
   ]
  },
  {
   "cell_type": "code",
   "execution_count": 2,
   "metadata": {},
   "outputs": [
    {
     "name": "stdout",
     "output_type": "stream",
     "text": [
      "········\n"
     ]
    }
   ],
   "source": [
    "p = getpass.getpass()"
   ]
  },
  {
   "cell_type": "code",
   "execution_count": 3,
   "metadata": {},
   "outputs": [
    {
     "data": {
      "text/plain": [
       "'PLEASE do not post your username/password on the discussion forums!'"
      ]
     },
     "execution_count": 3,
     "metadata": {},
     "output_type": "execute_result"
    }
   ],
   "source": [
    "import pgdb as pgdb\n",
    "import csv  as csv\n",
    "import os   as os\n",
    "import psycopg2\n",
    "\n",
    "dbname = \"\"\n",
    "user = \"\"\n",
    "\n",
    "con = psycopg2.connect(f\"dbname={dbname} user={user} password={p}\") # change these to real values\n",
    "\n",
    "#con.autocommit = True \n"
   ]
  },
  {
   "cell_type": "code",
   "execution_count": 4,
   "metadata": {},
   "outputs": [],
   "source": [
    "cur    = con.cursor()  # get one DictCursor instance or\n",
    "# N.B. if check that the path below corresponds to your own folder structure e.g. oulad.ipynb/data/assessments.csv\n",
    "fin    = open(os.path.join(\"\",\"assessments.csv\"), \"rt\") # you might need to change rt/rd to match representations\n",
    "csv_in = csv.reader(fin)\n",
    "next(csv_in);\n",
    "\n",
    "for line  in csv_in:\n",
    "    # Empty, non-string values in the CSV should be changed to the SQL Keyword DEFAULT\n",
    "    if line[2] == \"\": line[2] = \"DEFAULT\"\n",
    "    if line[4] == \"\": line[4] = \"DEFAULT\"\n",
    "    if line[5] == \"\": line[5] = \"DEFAULT\"\n",
    "    \n",
    "    query = \"\"\"INSERT INTO assessments \n",
    "               (code_module,code_presentation,id_assessment,assessment_type,date,weight)\n",
    "               VALUES ('%s','%s',%s,'%s',%s,%s);\"\"\" % tuple(line)\n",
    "    \n",
    "    cur.execute(query)\n",
    "\n",
    "fin.close()\n",
    "con.commit()\n"
   ]
  },
  {
   "cell_type": "code",
   "execution_count": 6,
   "metadata": {},
   "outputs": [],
   "source": [
    "cur    = con.cursor()  # get one DictCursor instance or\n",
    "\n",
    "fin    = open(os.path.join(\"\",\"courses.csv\"), \"rt\")\n",
    "csv_in = csv.reader(fin)\n",
    "next(csv_in); # What is this telling it to skip? \n",
    "for line  in csv_in:\n",
    "    # Empty, non-string values in the CSV should be changed to the SQL Keyword DEFAULT\n",
    "    if line[2] == \"\": line[2] = \"DEFAULT\"\n",
    "    \n",
    "    query = \"\"\"INSERT INTO courses\n",
    "               (code_module,code_presentation,module_presentation_length)\n",
    "               VALUES ('%s','%s',%s);\"\"\" % tuple(line)\n",
    "    \n",
    "    cur.execute(query)\n",
    "\n",
    "fin.close()\n",
    "con.commit()\n"
   ]
  },
  {
   "cell_type": "code",
   "execution_count": 7,
   "metadata": {},
   "outputs": [],
   "source": [
    "cur    = con.cursor()  # get one DictCursor instance or\n",
    "\n",
    "fin    = open(os.path.join(\"\",\"studentAssessment.csv\"), \"rt\")\n",
    "csv_in = csv.reader(fin)\n",
    "next(csv_in);\n",
    "\n",
    "for line  in csv_in:\n",
    "    # Empty, non-string values in the CSV should be changed to the SQL Keyword DEFAULT. See if you can optimise this for loop.\n",
    "    if line[0] == \"\": line[0] = \"DEFAULT\"\n",
    "    if line[1] == \"\": line[1] = \"DEFAULT\"\n",
    "    if line[2] == \"\": line[2] = \"DEFAULT\"\n",
    "    if line[3] == \"\": line[3] = \"DEFAULT\"\n",
    "    if line[4] == \"\": line[4] = \"DEFAULT\"\n",
    "    \n",
    "    query = \"\"\"INSERT INTO studentAssessment\n",
    "               (id_assessment,id_student,date_submitted,is_banked,score)\n",
    "               VALUES (%s,%s,%s,%s,%s);\"\"\" % tuple(line)\n",
    "    \n",
    "    cur.execute(query)\n",
    "\n",
    "fin.close()\n",
    "con.commit()\n"
   ]
  },
  {
   "cell_type": "code",
   "execution_count": 8,
   "metadata": {},
   "outputs": [],
   "source": [
    "cur    = con.cursor()  # get one DictCursor instance or\n",
    "\n",
    "fin    = open(os.path.join(\"\",\"studentInfo.csv\"), \"rt\")\n",
    "csv_in = csv.reader(fin)\n",
    "next(csv_in);\n",
    "\n",
    "for line  in csv_in:\n",
    "    # Empty, non-string values in the CSV should be changed to the SQL Keyword DEFAULT\n",
    "\n",
    "    if line[2] == \"\": line[2] = \"DEFAULT\"\n",
    "    if line[8] == \"\": line[8] = \"DEFAULT\"\n",
    "    if line[9] == \"\": line[9] = \"DEFAULT\"\n",
    "\n",
    "    query = \"\"\"INSERT INTO studentInfo\n",
    "               (code_module,code_presentation,id_student,gender,region,highest_education,imd_band,age_band,num_of_prev_attempts,studied_credits,disability,final_result)\n",
    "               VALUES ('%s','%s',%s,'%s','%s','%s','%s','%s',%s,%s,'%s','%s');\"\"\" % tuple(line)\n",
    "    \n",
    "    cur.execute(query)\n",
    "\n",
    "fin.close()\n",
    "con.commit()"
   ]
  },
  {
   "cell_type": "code",
   "execution_count": 9,
   "metadata": {},
   "outputs": [],
   "source": [
    "cur    = con.cursor()  # get one DictCursor instance or\n",
    "\n",
    "fin    = open(os.path.join(\"\",\"studentRegistration.csv\"), \"rt\")\n",
    "csv_in = csv.reader(fin)\n",
    "next(csv_in);\n",
    "\n",
    "for line  in csv_in:\n",
    "    # Empty, non-string values in the CSV should be changed to the SQL Keyword DEFAULT\n",
    "    if line[2]  == \"\": line[2]  = \"DEFAULT\"\n",
    "    if line[3]  == \"\": line[3]  = \"DEFAULT\"\n",
    "    if line[4]  == \"\": line[4]  = \"DEFAULT\"\n",
    "\n",
    "    query = \"\"\"INSERT INTO studentRegistration\n",
    "               (code_module,code_presentation,id_student,date_registration,date_unregistration)\n",
    "               VALUES ('%s','%s',%s,%s,%s);\"\"\" % tuple(line)\n",
    "    \n",
    "    cur.execute(query)\n",
    "\n",
    "fin.close()\n",
    "con.commit()"
   ]
  },
  {
   "cell_type": "code",
   "execution_count": 10,
   "metadata": {},
   "outputs": [
    {
     "name": "stdout",
     "output_type": "stream",
     "text": [
      "0 of 10,655,280\n",
      "1000000 of 10,655,280\n",
      "2000000 of 10,655,280\n",
      "3000000 of 10,655,280\n",
      "4000000 of 10,655,280\n",
      "Done!\n"
     ]
    }
   ],
   "source": [
    "## This CSV contains 10,655,280 rows of data and can take a while to import 5 ~ 10 minutes on most computers.\n",
    "\n",
    "cur    = con.cursor()  # get one DictCursor instance or\n",
    "\n",
    "fin    = open(os.path.join(\"\",\"studentVle.csv\"), \"rt\")\n",
    "csv_in = csv.reader(fin)\n",
    "next(csv_in);\n",
    "\n",
    "for i,line  in enumerate(csv_in):\n",
    "    if (i % 1000000 == 0): # A primitive progress counter\n",
    "        con.commit();\n",
    "        print (i, \"of 10,655,280\")\n",
    "        \n",
    "    # Empty, non-string values in the CSV should be changed to the SQL Keyword DEFAULT\n",
    "    if line[2] == \"\": line[2]  = \"DEFAULT\"\n",
    "    if line[3] == \"\": line[3]  = \"DEFAULT\"\n",
    "    if line[4] == \"\": line[4]  = \"DEFAULT\"\n",
    "    if line[5] == \"\": line[5]  = \"DEFAULT\"\n",
    "    \n",
    "    query = \"\"\"INSERT INTO studentVle\n",
    "               (code_module,code_presentation,id_student,id_site,date,sum_click)\n",
    "               VALUES ('%s','%s',%s, %s, %s, %s);\"\"\" % tuple(line)\n",
    "    \n",
    "    cur.execute(query)\n",
    "\n",
    "print (\"Done!\")\n",
    "fin.close()\n",
    "con.commit()"
   ]
  },
  {
   "cell_type": "code",
   "execution_count": null,
   "metadata": {},
   "outputs": [],
   "source": [
    "# Looking at the vle.csv file, and using the cells above as examples, write your own\n",
    "# Python to import the vle table here. Don't forget to run con.commit() at the end.\n",
    "#\n",
    "# If you make make a mistake and enter data incorrectly, or your code runs into an \n",
    "# exception before you called con.commit(), you can \"roll back\" the uncommitted \n",
    "#transatction by executing a single cell with the code `con.rollback()`.\n",
    "#\n",
    "# If you get really tied up, you can shut down Jupyter and re-run the schema definition \n",
    "# sql file in a terminal:\n",
    "#\n",
    "# shell> psql oulad dbuser1 < oulad.schema.sql\n",
    "#\n",
    "# but this will completely wipe your database, so you'll need to re-import all the above tables.\n",
    "#\n",
    "# tip: if you write your code, but simply comment out the cur.execute(query), and instead print \n",
    "# the query and use `break` to exit the loop early -- you can easily debug your SQL without \n",
    "# having it execute on the database.\n",
    "# \n",
    "# print query ; break"
   ]
  },
  {
   "cell_type": "code",
   "execution_count": 5,
   "metadata": {},
   "outputs": [],
   "source": [
    "cur    = con.cursor()  # get one DictCursor instance or\n",
    "\n",
    "fin    = open(os.path.join(\"\",\"vle.csv\"), \"rt\")\n",
    "csv_in = csv.reader(fin)\n",
    "next(csv_in);\n",
    "\n",
    "for line in csv_in:\n",
    "    # Empty, non-string values in the CSV should be changed to the SQL Keyword DEFAULT\n",
    "    if line[4]  == \"\": line[4]  = \"DEFAULT\"\n",
    "    if line[5]  == \"\": line[5]  = \"DEFAULT\"\n",
    "\n",
    "    query = \"\"\"INSERT INTO vle\n",
    "               (id_site,code_module,code_presentation,activity_type,week_from,week_to)\n",
    "               VALUES (%s,'%s','%s','%s',%s,%s);\"\"\" % tuple(line)\n",
    "    \n",
    "    cur.execute(query)\n",
    "\n",
    "fin.close()\n",
    "con.commit()"
   ]
  },
  {
   "cell_type": "code",
   "execution_count": null,
   "metadata": {},
   "outputs": [],
   "source": [
    "cur.close()\n",
    "con.close()"
   ]
  }
 ],
 "metadata": {
  "kernelspec": {
   "display_name": "Python 3",
   "language": "python",
   "name": "python3"
  },
  "language_info": {
   "codemirror_mode": {
    "name": "ipython",
    "version": 3
   },
   "file_extension": ".py",
   "mimetype": "text/x-python",
   "name": "python",
   "nbconvert_exporter": "python",
   "pygments_lexer": "ipython3",
   "version": "3.7.3"
  }
 },
 "nbformat": 4,
 "nbformat_minor": 2
}