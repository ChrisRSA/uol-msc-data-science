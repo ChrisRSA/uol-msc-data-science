{
 "cells": [
  {
   "cell_type": "markdown",
   "metadata": {},
   "source": [
    "# Working with MySQL from Python\n",
    "Here is some generic code to help you to get started on this assignment!\n",
    "\n",
    "We do not provide you with a MySQL variant on the server, so if you are using this template then I would suggest you have a local MySQL database to work from.\n",
    "\n",
    "\n",
    "## MySQL Connector API\n",
    "In this tutorial we will be using the [MySQL Connector API](https://dev.mysql.com/doc/connector-python/en/connector-python-introduction.html) for Python. This library provides a set of utilities we can use to connect to and query a MySQL database. API stands for \\`Application Programming Interface', and it is a general term used to describe a set of classes/functions/routines that facilitate the interaction between 2 different software applications (or different components in the same application).\n",
    "\n",
    "### Installing the MySQL-Connector\n",
    "\n",
    "You may need to install the mysql-connector package. If you're using Anaconda and import in the following cell fails, you can install the package using `conda install mysql-connector`. If you're not using Anaconda, you can install it with `pip3 install mysql-connector`.\n"
   ]
  },
  {
   "cell_type": "code",
   "execution_count": 1,
   "metadata": {},
   "outputs": [],
   "source": [
    "# import the mysql connector API\n",
    "import mysql.connector"
   ]
  },
  {
   "cell_type": "code",
   "execution_count": 2,
   "metadata": {},
   "outputs": [],
   "source": [
    "# store some reuseable configuration options\n",
    "# edit these according to your database settings\n",
    "config = {\n",
    "    'user'     : 'yourUsername',          # Your username\n",
    "    'password' : 'yourPassword', # Your *Database* password\n",
    "    'host'     : 'localhost',   \n",
    "    'database' : 'dbName',     # The name of your database (eg. agero001_flucks)\n",
    "    'port'     : '3307'\n",
    "}"
   ]
  },
  {
   "cell_type": "markdown",
   "metadata": {},
   "source": [
    "## Connect to a database\n",
    "First off, we will define a reuseable function that establishes a connection with a database, according to the configuration options that we pass it. We will also use this function to try to handle and report on any connection errors."
   ]
  },
  {
   "cell_type": "code",
   "execution_count": 3,
   "metadata": {},
   "outputs": [],
   "source": [
    "def connect(config):\n",
    "    \"\"\" Creates a connection with a MySQL database\n",
    "        Returns a connection object (handle to the database)\n",
    "    \"\"\"\n",
    "\n",
    "    try:\n",
    "        cnx = mysql.connector.connect(**config)\n",
    "        print( \"Connected to {} database as {}\".format( config['database'], config['user'] ) )\n",
    "        return cnx\n",
    "\n",
    "    except mysql.connector.Error as err:\n",
    "        if err.errno == errorcode.ER_ACCESS_DENIED_ERROR:\n",
    "            print( \"Something is wrong with your user name or password\" )\n",
    "        elif err.errno == errorcode.ER_BAD_DB_ERROR:\n",
    "            print( \"Database does not exist\" )\n",
    "        else:\n",
    "            print(err)\n",
    "\n",
    "    else:\n",
    "        cnx.close()\n"
   ]
  },
  {
   "cell_type": "code",
   "execution_count": null,
   "metadata": {},
   "outputs": [],
   "source": [
    "# create a connection handle to database\n",
    "cnx = connect(config)"
   ]
  },
  {
   "cell_type": "markdown",
   "metadata": {},
   "source": [
    "## Query the database\n",
    "Next we're going to do some work on the database. For that, we need to establish a connection with the database, and then instantiate a **cursor** object. A cursor is a control structure that enables traversal over the records in the database."
   ]
  },
  {
   "cell_type": "code",
   "execution_count": null,
   "metadata": {},
   "outputs": [],
   "source": [
    "# check there's an open connection\n",
    "if cnx:\n",
    "    \n",
    "    # create a cursor object\n",
    "    cursor = cnx.cursor()\n",
    "    \n",
    "    print(\"\\nQuerying database...\")\n",
    "\n",
    "    # fetch some data. You should customise this to match your schema/request.\n",
    "    query = (\"SELECT something AS thing1, thing2, COUNT(*) AS num_things FROM Place...\")\n",
    "    #Try running a query on your own table\n",
    "    cursor.execute(query)\n",
    "    \n",
    "    # display some column headings\n",
    "    print(\"\\nImg id\\tImg URL\\t\\t\\t\\t\\t\\tmyDB\")\n",
    "    \n",
    "    # display the data returned in the cursor object\n",
    "    for (thing1, thing2, thing3) in cursor:\n",
    "        print(\"{}\\t{}\\t{}\".format( thing1, thing2, thing3 ))\n"
   ]
  },
  {
   "cell_type": "markdown",
   "metadata": {},
   "source": [
    "## Inserting data\n",
    "We can follow a similar process when inserting data. The only difference here is that the data to be inserted is being passed as a second argument in the execute method of the cursor object. \n",
    "\n",
    "The advantage of passing the data separately for an insert is that it leverages Python's string formating rules to run checks on the data that is being inserted (i.e. does the value match the type indicated by the type **tokens**). Of course, that's assuming that the right tokens are used!\n",
    "\n",
    "We can also retrieve the **lastrowid** property from the cursor - useful when a single insert is part of **transaction**, in which a subsequent insert updates a child table."
   ]
  },
  {
   "cell_type": "code",
   "execution_count": null,
   "metadata": {},
   "outputs": [],
   "source": [
    "# define the SQL statement (inserts new row in Media)\n",
    "# note the use of placeholder tokens (%s) which will be replaced\n",
    "# with the actual values below)\n",
    "# which helps to ensure the integrity of the data\n",
    "sql = (\"INSERT INTO something \"\n",
    "               \"(name1,name2) \"\n",
    "               \"VALUES (%s,%s)\")\n",
    "\n",
    "# define values to replace the tokens as a tuple of (URL,DESC):\n",
    "data = (\"https://www.catPicturesOrSomeOtherContent/myCat.jpg\",\n",
    "        \"Some text pertaining to an image\")\n",
    "\n",
    "# execute the query on the database\n",
    "cursor.execute(sql, data)\n",
    "\n",
    "# get id of the new row\n",
    "db_id = cursor.lastrowid\n",
    "print(db_id)\n",
    "\n",
    "# make sure data is committed to the database\n",
    "cnx.commit() "
   ]
  },
  {
   "cell_type": "markdown",
   "metadata": {},
   "source": [
    "## Close the connection\n",
    "Finally, we should remember to close the cursor and connection with the database. This is because, if many connections are left open, it might affect the performance of the queries."
   ]
  },
  {
   "cell_type": "code",
   "execution_count": null,
   "metadata": {},
   "outputs": [],
   "source": [
    "# when we finish working, close the connection\n",
    "cursor.close()\n",
    "cnx.close()"
   ]
  }
 ],
 "metadata": {
  "kernelspec": {
   "display_name": "Python 3",
   "language": "python",
   "name": "python3"
  },
  "language_info": {
   "codemirror_mode": {
    "name": "ipython",
    "version": 3
   },
   "file_extension": ".py",
   "mimetype": "text/x-python",
   "name": "python",
   "nbconvert_exporter": "python",
   "pygments_lexer": "ipython3",
   "version": "3.7.4"
  }
 },
 "nbformat": 4,
 "nbformat_minor": 1
}
